{
 "cells": [
  {
   "cell_type": "markdown",
   "id": "c63fd7b0",
   "metadata": {},
   "source": [
    "## Tutorial\n",
    "\n",
    "This guide can help you start working with NetworkX.\n",
    "\n",
    "### Creating a graph\n",
    "\n",
    "Create an empty graph with no nodes and no edges."
   ]
  },
  {
   "attachments": {},
   "cell_type": "markdown",
   "id": "3649d851",
   "metadata": {},
   "source": [
    "1. Узлы\n",
    "2. Грани\n",
    "3. Изучение элементов графа\n",
    "4. Удаление элементов из графа\n",
    "5. Использование конструкторов графов\n",
    "6. Что использовать в качестве узлов и ребер\n",
    "7. Доступ к ребрам и соседям\n",
    "8. Добавление атрибутов к графам, узлам и ребрам\n",
    "9. Направленные графы\n",
    "10. Мультиграфы\n",
    "11. Генераторы графов и операции над графами\n",
    "12. Анализ графов\n",
    "13. Рисование графов\n",
    "14. NX-Guides"
   ]
  },
  {
   "cell_type": "code",
   "execution_count": 1,
   "id": "9dbf57b1",
   "metadata": {
    "execution": {
     "iopub.execute_input": "2023-04-04T20:09:19.379183Z",
     "iopub.status.busy": "2023-04-04T20:09:19.378805Z",
     "iopub.status.idle": "2023-04-04T20:09:19.451134Z",
     "shell.execute_reply": "2023-04-04T20:09:19.450399Z"
    }
   },
   "outputs": [],
   "source": [
    "import networkx as nx\n",
    "G = nx.Graph()"
   ]
  },
  {
   "attachments": {},
   "cell_type": "markdown",
   "id": "f331cde1",
   "metadata": {},
   "source": [
    "# 1. Узлы\n",
    "\n",
    "By definition, a `Graph` is a collection of nodes (vertices) along with\n",
    "identified pairs of nodes (called edges, links, etc).  In NetworkX, nodes can\n",
    "be any [hashable](https://docs.python.org/3/glossary.html#term-hashable) object e.g., a text string, an image, an XML object,\n",
    "another Graph, a customized node object, etc.\n",
    "\n",
    "По определению, `граф` - это набор узлов (вершин) вместе с\n",
    "идентифицированными парами узлов (называемых ребрами, связями и т.д.). В сети узлы могут\n",
    "быть любыми [хэшируемыми](https://docs.python.org/3/glossary.html#term-hashtable ) объект, например, тестовая строка, изображение, XML-объект,\n",
    "другой график, настроенный объект узла и т.д.\n",
    "\n",
    "# Nodes\n",
    "\n",
    "The graph `G` can be grown in several ways.  NetworkX includes many\n",
    "graph generator functions and\n",
    "facilities to read and write graphs in many formats.\n",
    "To get started though we’ll look at simple manipulations.  You can add one node\n",
    "at a time,\n",
    "\n",
    "Граф `G` может быть увеличен несколькими способами. Сеть включает в себя множество\n",
    "функций генератора графиков и\n",
    "средств для чтения и записи графиков во многих форматах.\n",
    "Однако для начала мы рассмотрим простые манипуляции. Вы можете добавлять по одному узлу\n",
    "за раз,"
   ]
  },
  {
   "cell_type": "code",
   "execution_count": 2,
   "id": "aa1473c2",
   "metadata": {
    "execution": {
     "iopub.execute_input": "2023-04-04T20:09:19.455175Z",
     "iopub.status.busy": "2023-04-04T20:09:19.454494Z",
     "iopub.status.idle": "2023-04-04T20:09:19.458783Z",
     "shell.execute_reply": "2023-04-04T20:09:19.457328Z"
    }
   },
   "outputs": [],
   "source": [
    "G.add_node(1)"
   ]
  },
  {
   "attachments": {},
   "cell_type": "markdown",
   "id": "d5a1a096",
   "metadata": {},
   "source": [
    "or add nodes from any [iterable](https://docs.python.org/3/glossary.html#term-iterable) container, such as a list\n",
    "\n",
    "или добавьте узлы из любого [iterable](https://docs.python.org/3/glossary.html#term-iterable ) контейнера, например список"
   ]
  },
  {
   "cell_type": "code",
   "execution_count": 3,
   "id": "1021bd00",
   "metadata": {
    "execution": {
     "iopub.execute_input": "2023-04-04T20:09:19.461723Z",
     "iopub.status.busy": "2023-04-04T20:09:19.461404Z",
     "iopub.status.idle": "2023-04-04T20:09:19.464738Z",
     "shell.execute_reply": "2023-04-04T20:09:19.464111Z"
    }
   },
   "outputs": [],
   "source": [
    "G.add_nodes_from([2, 3])"
   ]
  },
  {
   "attachments": {},
   "cell_type": "markdown",
   "id": "2be42993",
   "metadata": {},
   "source": [
    "You can also add nodes along with node\n",
    "attributes if your container yields 2-tuples of the form\n",
    "`(node, node_attribute_dict)`:\n",
    "\n",
    "Вы также можете добавлять узлы вместе с\n",
    "атрибутами узла, если ваш контейнер выдает 2 кортежа вида\n",
    "`(узел, node_attribute_dict)`:\n",
    "\n",
    "```\n",
    ">>> G.add_nodes_from([\n",
    "...     (4, {\"color\": \"red\"}),\n",
    "...     (5, {\"color\": \"green\"}),\n",
    "... ])\n",
    "```\n",
    "\n",
    "Node attributes are discussed further below.\n",
    "Nodes from one graph can be incorporated into another:\n",
    "\n",
    "Атрибуты узла подробно обсуждаются ниже.\n",
    "Узлы из одного графика могут быть включены в другой:"
   ]
  },
  {
   "cell_type": "code",
   "execution_count": 4,
   "id": "5e648866",
   "metadata": {
    "execution": {
     "iopub.execute_input": "2023-04-04T20:09:19.467449Z",
     "iopub.status.busy": "2023-04-04T20:09:19.467116Z",
     "iopub.status.idle": "2023-04-04T20:09:19.470622Z",
     "shell.execute_reply": "2023-04-04T20:09:19.469974Z"
    }
   },
   "outputs": [],
   "source": [
    "H = nx.path_graph(10)\n",
    "G.add_nodes_from(H)"
   ]
  },
  {
   "attachments": {},
   "cell_type": "markdown",
   "id": "c387d277",
   "metadata": {},
   "source": [
    "`G` now contains the nodes of `H` as nodes of `G`.\n",
    "In contrast, you could use the graph `H` as a node in `G`.\n",
    "\n",
    "`G` теперь содержит узлы `H` как узлы `G`.\n",
    "Напротив, вы могли бы использовать график \"H\" в качестве узла в `G`."
   ]
  },
  {
   "cell_type": "code",
   "execution_count": 5,
   "id": "880d2fe0",
   "metadata": {
    "execution": {
     "iopub.execute_input": "2023-04-04T20:09:19.473192Z",
     "iopub.status.busy": "2023-04-04T20:09:19.472702Z",
     "iopub.status.idle": "2023-04-04T20:09:19.475753Z",
     "shell.execute_reply": "2023-04-04T20:09:19.475099Z"
    }
   },
   "outputs": [],
   "source": [
    "G.add_node(H)"
   ]
  },
  {
   "attachments": {},
   "cell_type": "markdown",
   "id": "196dcc1a",
   "metadata": {},
   "source": [
    "The graph `G` now contains `H` as a node.  This flexibility is very powerful as\n",
    "it allows graphs of graphs, graphs of files, graphs of functions and much more.\n",
    "It is worth thinking about how to structure your application so that the nodes\n",
    "are useful entities.  Of course you can always use a unique identifier in `G`\n",
    "and have a separate dictionary keyed by identifier to the node information if\n",
    "you prefer.\n",
    "\n",
    "Граф `G` теперь содержит `H` в качестве узла. Эта гибкость очень мощна, поскольку\n",
    "позволяет создавать графики графиков, графики файлов, графики функций и многое другое.\n",
    "Стоит подумать о том, как структурировать ваше приложение таким образом, чтобы узлы\n",
    "были полезными объектами. Конечно, вы всегда можете использовать уникальный идентификатор в `G`\n",
    "и иметь отдельный словарь, привязанный по идентификатору к информации об узле, если\n",
    "предпочитаете.\n",
    "\n",
    "# 2. Edges - Ребра - Края\n",
    "\n",
    "`G` can also be grown by adding one edge at a time,\n",
    "\n",
    "`G` также можно увеличить, добавляя по одному узлу за раз,"
   ]
  },
  {
   "cell_type": "code",
   "execution_count": 6,
   "id": "7f46c03b",
   "metadata": {
    "execution": {
     "iopub.execute_input": "2023-04-04T20:09:19.478513Z",
     "iopub.status.busy": "2023-04-04T20:09:19.478160Z",
     "iopub.status.idle": "2023-04-04T20:09:19.481460Z",
     "shell.execute_reply": "2023-04-04T20:09:19.480834Z"
    }
   },
   "outputs": [],
   "source": [
    "G.add_edge(1, 2)\n",
    "e = (2, 3)\n",
    "G.add_edge(*e)  # unpack edge tuple*"
   ]
  },
  {
   "attachments": {},
   "cell_type": "markdown",
   "id": "2aaa20e0",
   "metadata": {},
   "source": [
    "by adding a list of edges,\n",
    "\n",
    "путем добавления списка ребер,"
   ]
  },
  {
   "cell_type": "code",
   "execution_count": 7,
   "id": "1923234b",
   "metadata": {
    "execution": {
     "iopub.execute_input": "2023-04-04T20:09:19.483701Z",
     "iopub.status.busy": "2023-04-04T20:09:19.483494Z",
     "iopub.status.idle": "2023-04-04T20:09:19.486563Z",
     "shell.execute_reply": "2023-04-04T20:09:19.485948Z"
    }
   },
   "outputs": [],
   "source": [
    "G.add_edges_from([(1, 2), (1, 3)])"
   ]
  },
  {
   "attachments": {},
   "cell_type": "markdown",
   "id": "441aea9d",
   "metadata": {},
   "source": [
    "or by adding any ebunch of edges.  An *ebunch* is any iterable\n",
    "container of edge-tuples.  An edge-tuple can be a 2-tuple of nodes or a 3-tuple\n",
    "with 2 nodes followed by an edge attribute dictionary, e.g.,\n",
    "`(2, 3, {'weight': 3.1415})`.  Edge attributes are discussed further\n",
    "below.\n",
    "\n",
    "или добавив несколько ребер. *ebunch* - это любой итерируемый\n",
    "контейнер реберных кортежей. Граничный кортеж может быть 2-мя кортежами узлов или 3-мя кортежами\n",
    "с 2 узлами, за которыми следует словарь атрибутов края, например,\n",
    "`(2, 3, {'вес': 3,1415})`. Атрибуты ребер\n",
    "подробно обсуждаются ниже."
   ]
  },
  {
   "cell_type": "code",
   "execution_count": 8,
   "id": "c8294a1c",
   "metadata": {
    "execution": {
     "iopub.execute_input": "2023-04-04T20:09:19.488963Z",
     "iopub.status.busy": "2023-04-04T20:09:19.488635Z",
     "iopub.status.idle": "2023-04-04T20:09:19.491677Z",
     "shell.execute_reply": "2023-04-04T20:09:19.491059Z"
    }
   },
   "outputs": [],
   "source": [
    "G.add_edges_from(H.edges)"
   ]
  },
  {
   "attachments": {},
   "cell_type": "markdown",
   "id": "01e8ef66",
   "metadata": {},
   "source": [
    "There are no complaints when adding existing nodes or edges. For example,\n",
    "after removing all nodes and edges,\n",
    "\n",
    "При добавлении существующих узлов или ребер претензий нет. Например,\n",
    "после удаления всех узлов и ребер,"
   ]
  },
  {
   "cell_type": "code",
   "execution_count": 9,
   "id": "6c5069ec",
   "metadata": {
    "execution": {
     "iopub.execute_input": "2023-04-04T20:09:19.494020Z",
     "iopub.status.busy": "2023-04-04T20:09:19.493691Z",
     "iopub.status.idle": "2023-04-04T20:09:19.496619Z",
     "shell.execute_reply": "2023-04-04T20:09:19.496012Z"
    }
   },
   "outputs": [],
   "source": [
    "G.clear()"
   ]
  },
  {
   "attachments": {},
   "cell_type": "markdown",
   "id": "96a9c6da",
   "metadata": {},
   "source": [
    "we add new nodes/edges and NetworkX quietly ignores any that are\n",
    "already present.\n",
    "\n",
    "мы добавляем новые узлы / ребра, и сеть спокойно игнорирует все, что уже присутствует."
   ]
  },
  {
   "cell_type": "code",
   "execution_count": 10,
   "id": "83c04940",
   "metadata": {
    "execution": {
     "iopub.execute_input": "2023-04-04T20:09:19.499131Z",
     "iopub.status.busy": "2023-04-04T20:09:19.498638Z",
     "iopub.status.idle": "2023-04-04T20:09:19.502380Z",
     "shell.execute_reply": "2023-04-04T20:09:19.501760Z"
    }
   },
   "outputs": [],
   "source": [
    "G.add_edges_from([(1, 2), (1, 3)])\n",
    "G.add_node(1)\n",
    "G.add_edge(1, 2)\n",
    "G.add_node(\"spam\")        # adds node \"spam\"\n",
    "G.add_nodes_from(\"spam\")  # adds 4 nodes: 's', 'p', 'a', 'm'\n",
    "G.add_edge(3, 'm')"
   ]
  },
  {
   "attachments": {},
   "cell_type": "markdown",
   "id": "361a6daf",
   "metadata": {},
   "source": [
    "At this stage the graph `G` consists of 8 nodes and 3 edges, as can be seen by:\n",
    "\n",
    "На данном этапе граф `G` состоит из 8 узлов и 3 ребер, как видно из:"
   ]
  },
  {
   "cell_type": "code",
   "execution_count": 11,
   "id": "96829b46",
   "metadata": {
    "execution": {
     "iopub.execute_input": "2023-04-04T20:09:19.504890Z",
     "iopub.status.busy": "2023-04-04T20:09:19.504389Z",
     "iopub.status.idle": "2023-04-04T20:09:19.510821Z",
     "shell.execute_reply": "2023-04-04T20:09:19.510185Z"
    }
   },
   "outputs": [
    {
     "data": {
      "text/plain": [
       "3"
      ]
     },
     "execution_count": 11,
     "metadata": {},
     "output_type": "execute_result"
    }
   ],
   "source": [
    "G.number_of_nodes()\n",
    "G.number_of_edges()"
   ]
  },
  {
   "cell_type": "code",
   "execution_count": 12,
   "id": "78d6d614",
   "metadata": {
    "execution": {
     "iopub.execute_input": "2023-04-04T20:09:19.513303Z",
     "iopub.status.busy": "2023-04-04T20:09:19.512794Z",
     "iopub.status.idle": "2023-04-04T20:09:19.517199Z",
     "shell.execute_reply": "2023-04-04T20:09:19.516579Z"
    }
   },
   "outputs": [],
   "source": [
    "DG = nx.DiGraph()\n",
    "DG.add_edge(2, 1)   # adds the nodes in order 2, 1\n",
    "DG.add_edge(1, 3)\n",
    "DG.add_edge(2, 4)\n",
    "DG.add_edge(1, 2)\n",
    "assert list(DG.successors(2)) == [1, 4]\n",
    "# assert list(DG.successors(2)) == [1, 3]\n",
    "assert list(DG.edges) == [(2, 1), (2, 4), (1, 3), (1, 2)]"
   ]
  },
  {
   "attachments": {},
   "cell_type": "markdown",
   "id": "def3de6e",
   "metadata": {},
   "source": [
    "Оператор `assert` - это утверждение, которое используется для проверки того, что определенное условие истинно. Если условие является ложным, то оператор вызовет исключение AssertionError.\n",
    "\n",
    "В контексте приведенного кода, оператор `assert` проверяет, что список преемников (`successors`) вершины 2 в графе `DG` равен `[1, 4]`. Если это условие не выполняется, то возникнет исключение `AssertionError`, что может помочь обнаружить ошибки в программе.\n",
    "\n",
    "`assert list(DG.edges) == [(2, 1), (2, 4), (1, 3), (1, 2)]`\n",
    "Этот код использует оператор `assert` для проверки того, что список ребер в графе `DG` соответствует ожидаемому списку ребер, заданному в правой части выражения. Если проверка не проходит, то возникает ошибка `AssertionError`.\n",
    "\n",
    "В данном случае, проверяется соответствие ожидаемому списку ребер `[(2, 1), (2, 4), (1, 3), (1, 2)]` в графе `DG`."
   ]
  },
  {
   "attachments": {},
   "cell_type": "markdown",
   "id": "2867c623",
   "metadata": {},
   "source": [
    "# Examining elements of a graph\n",
    "\n",
    "# 3. Изучение элементов графика\n",
    "\n",
    "We can examine the nodes and edges. Four basic graph properties facilitate\n",
    "reporting: `G.nodes`, `G.edges`, `G.adj` and `G.degree`.  These\n",
    "are set-like views of the nodes, edges, neighbors (`adjacencies`), and degrees\n",
    "of nodes in a graph. They offer a continually updated read-only view into\n",
    "the graph structure. They are also dict-like in that you can look up node\n",
    "and edge data attributes via the views and iterate with data attributes\n",
    "using methods `.items()`, `.data()`.\n",
    "If you want a specific container type instead of a view, you can specify one.\n",
    "Here we use lists, though sets, dicts, tuples and other containers may be\n",
    "better in other contexts.\n",
    "\n",
    "Мы можем исследовать узлы и ребра. Четыре основных свойства графа облегчают\n",
    "составление отчетов: `G.nodes`, `G.edges`, `G.adj` и `G.degree`.. Это\n",
    "множество-подобные представления `узлов`, `ребер`, `соседей` (смежностей) и `степеней\n",
    "узлов` в графе. Они предлагают постоянно обновляемый доступ к\n",
    "структуре графика, доступный только для чтения. Они также похожи на dict в том смысле, что вы можете искать\n",
    "атрибуты данных узла и ребра с помощью представлений и выполнять итерации с атрибутами данных\n",
    ", используя методы `.items()`, `.data()`.\n",
    "Если вам нужен определенный тип контейнера вместо представления, вы можете указать его.\n",
    "Здесь мы используем списки, хотя наборы, `dicts`, кортежи и другие контейнеры могут быть\n",
    "лучше в других контекстах"
   ]
  },
  {
   "cell_type": "code",
   "execution_count": 13,
   "id": "56a874f6",
   "metadata": {
    "execution": {
     "iopub.execute_input": "2023-04-04T20:09:19.519577Z",
     "iopub.status.busy": "2023-04-04T20:09:19.519245Z",
     "iopub.status.idle": "2023-04-04T20:09:19.523973Z",
     "shell.execute_reply": "2023-04-04T20:09:19.523356Z"
    }
   },
   "outputs": [
    {
     "name": "stdout",
     "output_type": "stream",
     "text": [
      "[2, 3]\n",
      "2\n",
      "[1]\n",
      "1\n"
     ]
    }
   ],
   "source": [
    "list(G.nodes)\n",
    "list(G.edges)\n",
    "print(list(G.adj[1]))  # or list(G.neighbors(1))\n",
    "print(G.degree[1])  # the number of edges incident to 1\n",
    "\n",
    "print(list(G.adj[2]))  # or list(G.neighbors(1))\n",
    "print(G.degree[2])  # the number of edges incident to 1"
   ]
  },
  {
   "attachments": {},
   "cell_type": "markdown",
   "id": "7f32bc91",
   "metadata": {},
   "source": [
    "One can specify to report the edges and degree from a subset of all nodes\n",
    "using an nbunch. An *nbunch* is any of: `None` (meaning all nodes),\n",
    "a node, or an iterable container of nodes that is not itself a node in the\n",
    "graph.\n",
    "\n",
    "Можно сообщать о ребрах и степени из подмножества всех узлов\n",
    ", используя связку. *nbunch* - это любой из: `None` (имеется в виду все узлы),\n",
    "узел или повторяющийся контейнер узлов, который сам по себе не является узлом в\n",
    "графе."
   ]
  },
  {
   "cell_type": "code",
   "execution_count": 14,
   "id": "fcbabf8c",
   "metadata": {
    "execution": {
     "iopub.execute_input": "2023-04-04T20:09:19.526700Z",
     "iopub.status.busy": "2023-04-04T20:09:19.526179Z",
     "iopub.status.idle": "2023-04-04T20:09:19.530563Z",
     "shell.execute_reply": "2023-04-04T20:09:19.529903Z"
    }
   },
   "outputs": [
    {
     "data": {
      "text/plain": [
       "DegreeView({2: 1, 3: 2, 1: 2})"
      ]
     },
     "execution_count": 14,
     "metadata": {},
     "output_type": "execute_result"
    }
   ],
   "source": [
    "G.edges([2, 'm'])\n",
    "G.degree([2, 3, 1])  "
   ]
  },
  {
   "attachments": {},
   "cell_type": "markdown",
   "id": "9cf85747",
   "metadata": {},
   "source": [
    "Степень вершины в графе `degree` - это количество ребер, связывающих данную вершину с другими вершинами графа."
   ]
  },
  {
   "attachments": {},
   "cell_type": "markdown",
   "id": "3b27a1ec",
   "metadata": {},
   "source": [
    "# Removing elements from a graph\n",
    "\n",
    "# 4. Удаление элементов из графика\n",
    "\n",
    "One can remove nodes and edges from the graph in a similar fashion to adding.\n",
    "Use methods\n",
    "`Graph.remove_node()`,\n",
    "`Graph.remove_nodes_from()`,\n",
    "`Graph.remove_edge()`\n",
    "and\n",
    "`Graph.remove_edges_from()`, e.g.\n",
    "\n",
    "Можно удалить узлы и ребра из графика аналогично добавлению.\n",
    "Методы использования\n",
    "`Graph.remove_node()`\n",
    "\n",
    "`Graph.remove_nodes_from()`\n",
    "\n",
    "`Graph.remove_edge()`\n",
    "и\n",
    "\n",
    "`Graph.remove_edges_from()`, например"
   ]
  },
  {
   "cell_type": "code",
   "execution_count": 15,
   "id": "84b4eeb2",
   "metadata": {
    "execution": {
     "iopub.execute_input": "2023-04-04T20:09:19.533118Z",
     "iopub.status.busy": "2023-04-04T20:09:19.532617Z",
     "iopub.status.idle": "2023-04-04T20:09:19.536020Z",
     "shell.execute_reply": "2023-04-04T20:09:19.535393Z"
    }
   },
   "outputs": [],
   "source": [
    "G.remove_node(2)\n",
    "G.remove_nodes_from(\"spam\")\n",
    "list(G.nodes)\n",
    "G.remove_edge(1, 3)"
   ]
  },
  {
   "attachments": {},
   "cell_type": "markdown",
   "id": "8cd72dad",
   "metadata": {},
   "source": [
    "# Using the graph constructors\n",
    "\n",
    "# 5. Использование графовых конструкторов\n",
    "\n",
    "Graph objects do not have to be built up incrementally - data specifying\n",
    "graph structure can be passed directly to the constructors of the various\n",
    "graph classes.\n",
    "When creating a graph structure by instantiating one of the graph\n",
    "classes you can specify data in several formats.\n",
    "\n",
    "\n",
    "Объекты графа не обязательно создавать постепенно - данные, определяющие\n",
    "структуру графа, могут быть переданы непосредственно конструкторам различных\n",
    "классов графа.\n",
    "При создании структуры графа путем создания экземпляра одного из\n",
    "классов графа вы можете указать данные в нескольких форматах."
   ]
  },
  {
   "cell_type": "code",
   "execution_count": 16,
   "id": "b7614d75",
   "metadata": {
    "execution": {
     "iopub.execute_input": "2023-04-04T20:09:19.538396Z",
     "iopub.status.busy": "2023-04-04T20:09:19.538066Z",
     "iopub.status.idle": "2023-04-04T20:09:19.791290Z",
     "shell.execute_reply": "2023-04-04T20:09:19.790568Z"
    }
   },
   "outputs": [
    {
     "data": {
      "text/plain": [
       "[(0, 1), (0, 2), (1, 2), (2, 3)]"
      ]
     },
     "execution_count": 16,
     "metadata": {},
     "output_type": "execute_result"
    }
   ],
   "source": [
    "G.add_edge(1, 2)\n",
    "H = nx.DiGraph(G)  # создайте орграф, используя соединения из G\n",
    "list(H.edges())\n",
    "edgelist = [(0, 1), (1, 2), (2, 3)]\n",
    "H = nx.Graph(edgelist)  # create a graph from an edge list\n",
    "list(H.edges())\n",
    "adjacency_dict = {0: (1, 2), 1: (0, 2), 2: (0, 3)} # adjacency - смежность\n",
    "H = nx.Graph(adjacency_dict)  # create a Graph dict mapping nodes to nbrs\n",
    "list(H.edges())"
   ]
  },
  {
   "attachments": {},
   "cell_type": "markdown",
   "id": "5f8ef04d",
   "metadata": {},
   "source": [
    "# What to use as nodes and edges\n",
    "\n",
    "# 6. Что использовать в качестве узлов и ребер\n",
    "\n",
    "You might notice that nodes and edges are not specified as NetworkX\n",
    "objects.  This leaves you free to use meaningful items as nodes and\n",
    "edges. The most common choices are numbers or strings, but a node can\n",
    "be any hashable object (except `None`), and an edge can be associated\n",
    "with any object `x` using `G.add_edge(n1, n2, object=x)`.\n",
    "\n",
    "As an example, `n1` and `n2` could be protein objects from the RCSB Protein\n",
    "Data Bank, and `x` could refer to an XML record of publications detailing\n",
    "experimental observations of their interaction.\n",
    "\n",
    "We have found this power quite useful, but its abuse\n",
    "can lead to surprising behavior unless one is familiar with Python.\n",
    "If in doubt, consider using `convert_node_labels_to_integers()` to obtain\n",
    "a more traditional graph with integer labels.\n",
    "\n",
    "Вы можете заметить, что узлы и ребра не указаны в качестве сетевых\n",
    "объектов. Это позволяет вам свободно использовать значимые элементы в качестве узлов и\n",
    "ребер. Наиболее распространенными вариантами являются числа или строки, но узлом может\n",
    "быть любой хэшируемый объект (кроме `None`), а ребро может быть связано\n",
    "с любым объектом `x` с помощью `G.add_edge(n1, n2, object=x)`.\n",
    "\n",
    "В качестве примера, `n1` и `n2` могут быть белковыми объектами из RCSB Protein\n",
    "Банк данных, а \"x\" может относиться к XML-записи публикаций с подробным\n",
    "описанием экспериментальных наблюдений за их взаимодействием.\n",
    "\n",
    "Мы нашли эту возможность весьма полезной, но злоупотребление\n",
    "ею может привести к неожиданному поведению, если вы не знакомы с Python.\n",
    "Если вы сомневаетесь, рассмотрите возможность использования `convert_node_labels_to_integers()` для получения\n",
    "более традиционного графика с целочисленными метками.\n",
    "\n",
    "# Accessing edges and neighbors\n",
    "\n",
    "# 7. Доступ к ребрам и соседям\n",
    "\n",
    "In addition to the views `Graph.edges`, and `Graph.adj`,\n",
    "access to edges and neighbors is possible using subscript notation.\n",
    "\n",
    "В дополнение к представлениям `Graph.edges` и `Graph.adj`\n",
    "доступ к ребрам и соседям возможен с использованием индексной записи."
   ]
  },
  {
   "cell_type": "code",
   "execution_count": 17,
   "id": "d340efb2",
   "metadata": {
    "execution": {
     "iopub.execute_input": "2023-04-04T20:09:19.794507Z",
     "iopub.status.busy": "2023-04-04T20:09:19.794033Z",
     "iopub.status.idle": "2023-04-04T20:09:19.800948Z",
     "shell.execute_reply": "2023-04-04T20:09:19.800369Z"
    }
   },
   "outputs": [
    {
     "data": {
      "text/plain": [
       "{'color': 'yellow'}"
      ]
     },
     "execution_count": 17,
     "metadata": {},
     "output_type": "execute_result"
    }
   ],
   "source": [
    "G = nx.Graph([(1, 2, {\"color\": \"yellow\"})])\n",
    "G[1]  # то же, что и G.adj[1]\n",
    "G[1][2] # G.edges[1, 2]"
   ]
  },
  {
   "attachments": {},
   "cell_type": "markdown",
   "id": "03096d0e",
   "metadata": {},
   "source": [
    "You can get/set the attributes of an edge using subscript notation\n",
    "if the edge already exists.\n",
    "\n",
    "Вы можете получить / установить атрибуты ребра, используя подстрочные обозначения, если ребро уже существует."
   ]
  },
  {
   "cell_type": "code",
   "execution_count": 18,
   "id": "8ce00bdf",
   "metadata": {
    "execution": {
     "iopub.execute_input": "2023-04-04T20:09:19.803686Z",
     "iopub.status.busy": "2023-04-04T20:09:19.803149Z",
     "iopub.status.idle": "2023-04-04T20:09:19.808985Z",
     "shell.execute_reply": "2023-04-04T20:09:19.808365Z"
    }
   },
   "outputs": [
    {
     "data": {
      "text/plain": [
       "{'color': 'red'}"
      ]
     },
     "execution_count": 18,
     "metadata": {},
     "output_type": "execute_result"
    }
   ],
   "source": [
    "G.add_edge(1, 3)\n",
    "G[1][3]['color'] = \"blue\"\n",
    "G.edges[1, 2]['color'] = \"red\"\n",
    "G.edges[1, 2]"
   ]
  },
  {
   "attachments": {},
   "cell_type": "markdown",
   "id": "3981787f",
   "metadata": {},
   "source": [
    "Fast examination of all (node, adjacency) pairs is achieved using\n",
    "`G.adjacency()`, or `G.adj.items()`.\n",
    "Note that for undirected graphs, adjacency iteration sees each edge twice.\n",
    "\n",
    "Быстрый просмотр всех пар (узел, смежность) достигается с помощью\n",
    "`G.adjacency()` или `G.adj.items()`.\n",
    "Обратите внимание, что для неориентированных графов итерация смежности просматривает каждое ребро дважды."
   ]
  },
  {
   "cell_type": "code",
   "execution_count": 19,
   "id": "711e99a0",
   "metadata": {
    "execution": {
     "iopub.execute_input": "2023-04-04T20:09:19.811462Z",
     "iopub.status.busy": "2023-04-04T20:09:19.811117Z",
     "iopub.status.idle": "2023-04-04T20:09:19.815989Z",
     "shell.execute_reply": "2023-04-04T20:09:19.815337Z"
    }
   },
   "outputs": [
    {
     "name": "stdout",
     "output_type": "stream",
     "text": [
      "(1, 2, 0.125)\n",
      "(2, 1, 0.125)\n",
      "(3, 4, 0.375)\n",
      "(4, 3, 0.375)\n"
     ]
    }
   ],
   "source": [
    "FG = nx.Graph()\n",
    "FG.add_weighted_edges_from([(1, 2, 0.125), (1, 3, 0.75), (2, 4, 1.2), (3, 4, 0.375)])\n",
    "for n, nbrs in FG.adj.items():\n",
    "   for nbr, eattr in nbrs.items():\n",
    "       wt = eattr['weight']\n",
    "       if wt < 0.5: print(f\"({n}, {nbr}, {wt:.3})\")"
   ]
  },
  {
   "attachments": {},
   "cell_type": "markdown",
   "id": "10b59024",
   "metadata": {},
   "source": [
    "Convenient access to all edges is achieved with the edges property.\n",
    "\n",
    "Удобный доступ ко всем ребрам достигается с\n",
    "помощью свойства edges"
   ]
  },
  {
   "cell_type": "code",
   "execution_count": 20,
   "id": "4d87898f",
   "metadata": {
    "execution": {
     "iopub.execute_input": "2023-04-04T20:09:19.818695Z",
     "iopub.status.busy": "2023-04-04T20:09:19.818254Z",
     "iopub.status.idle": "2023-04-04T20:09:19.822171Z",
     "shell.execute_reply": "2023-04-04T20:09:19.821514Z"
    }
   },
   "outputs": [
    {
     "name": "stdout",
     "output_type": "stream",
     "text": [
      "(1, 2, 0.125)\n",
      "(3, 4, 0.375)\n"
     ]
    }
   ],
   "source": [
    "for (u, v, wt) in FG.edges.data('weight'):\n",
    "    if wt < 0.5:\n",
    "        print(f\"({u}, {v}, {wt:.3})\")"
   ]
  },
  {
   "attachments": {},
   "cell_type": "markdown",
   "id": "fb80bff7",
   "metadata": {},
   "source": [
    "# Adding attributes to graphs, nodes, and edges\n",
    "\n",
    "# 8. Добавление атрибутов к графам, узлам и ребрам\n",
    "\n",
    "Attributes such as weights, labels, colors, or whatever Python object you like,\n",
    "can be attached to graphs, nodes, or edges.\n",
    "\n",
    "Each graph, node, and edge can hold key/value attribute pairs in an associated\n",
    "attribute dictionary (the keys must be hashable).  By default these are empty,\n",
    "but attributes can be added or changed using `add_edge`, `add_node` or direct\n",
    "manipulation of the attribute dictionaries named `G.graph`, `G.nodes`, and\n",
    "`G.edges` for a graph `G`.\n",
    "\n",
    "Такие атрибуты, как веса, метки, цвета или любой другой объект Python, который вам нравится,\n",
    "могут быть прикреплены к графикам, узлам или ребрам.\n",
    "\n",
    "Каждый граф, узел и ребро могут содержать пары атрибутов ключ/значение в соответствующем\n",
    "словаре атрибутов (ключи должны быть хэшируемыми). По умолчанию они пусты,\n",
    "но атрибуты могут быть добавлены или изменены с помощью `add_edge`, `add_node` или прямого\n",
    "обращения к словарям атрибутов с именами `G.graph`, `G.nodes` и\n",
    "`G.edge` для графика `G`.\n",
    "\n",
    "## Graph attributes\n",
    "\n",
    "## 8.1. Атрибуты графa\n",
    "\n",
    "Assign graph attributes when creating a new graph\n",
    "\n",
    "Назначайте атрибуты графу при создании нового графа"
   ]
  },
  {
   "cell_type": "code",
   "execution_count": 21,
   "id": "eb49b8ed",
   "metadata": {
    "execution": {
     "iopub.execute_input": "2023-04-04T20:09:19.824996Z",
     "iopub.status.busy": "2023-04-04T20:09:19.824657Z",
     "iopub.status.idle": "2023-04-04T20:09:19.829092Z",
     "shell.execute_reply": "2023-04-04T20:09:19.828451Z"
    }
   },
   "outputs": [
    {
     "data": {
      "text/plain": [
       "{'day': 'Friday'}"
      ]
     },
     "execution_count": 21,
     "metadata": {},
     "output_type": "execute_result"
    }
   ],
   "source": [
    "G = nx.Graph(day=\"Friday\")\n",
    "G.graph"
   ]
  },
  {
   "attachments": {},
   "cell_type": "markdown",
   "id": "4507d4e2",
   "metadata": {},
   "source": [
    "Or you can modify attributes later\n",
    "\n",
    "Или вы можете изменить атрибуты позже"
   ]
  },
  {
   "cell_type": "code",
   "execution_count": 22,
   "id": "9e580632",
   "metadata": {
    "execution": {
     "iopub.execute_input": "2023-04-04T20:09:19.831974Z",
     "iopub.status.busy": "2023-04-04T20:09:19.831639Z",
     "iopub.status.idle": "2023-04-04T20:09:19.836050Z",
     "shell.execute_reply": "2023-04-04T20:09:19.835414Z"
    }
   },
   "outputs": [
    {
     "data": {
      "text/plain": [
       "{'day': 'Monday'}"
      ]
     },
     "execution_count": 22,
     "metadata": {},
     "output_type": "execute_result"
    }
   ],
   "source": [
    "G.graph['day'] = \"Monday\"\n",
    "G.graph"
   ]
  },
  {
   "attachments": {},
   "cell_type": "markdown",
   "id": "8e6f3087",
   "metadata": {},
   "source": [
    "# Node attributes\n",
    "# 8.2. Атрибуты узла\n",
    "\n",
    "Add node attributes using `add_node()`, `add_nodes_from()`, or `G.nodes`\n",
    "\n",
    "Добавьте атрибуты узла, используя \n",
    "\n",
    "`add_node()` \n",
    "\n",
    "`add_nodes_from()` \n",
    "\n",
    "`G.nodes`"
   ]
  },
  {
   "cell_type": "code",
   "execution_count": 23,
   "id": "04851bbc",
   "metadata": {
    "execution": {
     "iopub.execute_input": "2023-04-04T20:09:19.838640Z",
     "iopub.status.busy": "2023-04-04T20:09:19.838295Z",
     "iopub.status.idle": "2023-04-04T20:09:19.843448Z",
     "shell.execute_reply": "2023-04-04T20:09:19.842807Z"
    }
   },
   "outputs": [
    {
     "data": {
      "text/plain": [
       "NodeDataView({1: {'time': '5pm', 'room': 714}, 3: {'time': '2pm'}})"
      ]
     },
     "execution_count": 23,
     "metadata": {},
     "output_type": "execute_result"
    }
   ],
   "source": [
    "G.add_node(1, time='5pm')\n",
    "G.add_nodes_from([3], time='2pm')\n",
    "G.nodes[1]\n",
    "G.nodes[1]['room'] = 714\n",
    "G.nodes.data()"
   ]
  },
  {
   "attachments": {},
   "cell_type": "markdown",
   "id": "2f44f2be",
   "metadata": {},
   "source": [
    "Note that adding a node to `G.nodes` does not add it to the graph, use\n",
    "`G.add_node()` to add new nodes. Similarly for edges.\n",
    "\n",
    "# Edge Attributes\n",
    "\n",
    "Add/change edge attributes using `add_edge()`, `add_edges_from()`,\n",
    "or subscript notation."
   ]
  },
  {
   "attachments": {},
   "cell_type": "markdown",
   "id": "6aaed2e1",
   "metadata": {},
   "source": [
    "Обратите внимание, что добавление узла в `G.nodes` не добавляет его в граф, используйте\n",
    "`G.add_node()` для добавления новых узлов. Аналогично для ребер.\n",
    "\n",
    "# 8.3. Атрибуты ребер\n",
    "\n",
    "Добавляйте/изменяйте атрибуты ребер, используя \n",
    "\n",
    "`add_edge()` \n",
    "\n",
    "`add_edges_from()`\n",
    "\n",
    "или подстрочные обозначения."
   ]
  },
  {
   "cell_type": "code",
   "execution_count": 24,
   "id": "3b4caf43",
   "metadata": {
    "execution": {
     "iopub.execute_input": "2023-04-04T20:09:19.846131Z",
     "iopub.status.busy": "2023-04-04T20:09:19.845625Z",
     "iopub.status.idle": "2023-04-04T20:09:19.849941Z",
     "shell.execute_reply": "2023-04-04T20:09:19.849308Z"
    }
   },
   "outputs": [
    {
     "name": "stdout",
     "output_type": "stream",
     "text": [
      "red 4.2\n"
     ]
    }
   ],
   "source": [
    "G.add_edge(1, 2, weight=4.7 )\n",
    "G.add_edges_from([(3, 4), (4, 5)], color='red')\n",
    "G.add_edges_from([(1, 2, {'color': 'blue'}), (2, 3, {'weight': 8})])\n",
    "G[1][2]['weight'] = 4.7\n",
    "G.edges[3, 4]['weight'] = 4.2\n",
    "print(G.edges[4, 5]['color'], G[3][4]['weight'])"
   ]
  },
  {
   "attachments": {},
   "cell_type": "markdown",
   "id": "3129fd83",
   "metadata": {},
   "source": [
    "The special attribute `weight` should be numeric as it is used by\n",
    "algorithms requiring weighted edges.\n",
    "\n",
    " # Directed graphs\n",
    "\n",
    "The `DiGraph` class provides additional methods and properties specific\n",
    "to directed edges, e.g.,\n",
    "`DiGraph.out_edges`, `DiGraph.in_degree`,\n",
    "`DiGraph.predecessors`, `DiGraph.successors` etc.\n",
    "To allow algorithms to work with both classes easily, the directed versions of\n",
    "`neighbors` is equivalent to\n",
    "`successors` while `degree` reports the sum\n",
    "of `in_degree` and `out_degree` even though that may feel inconsistent at times."
   ]
  },
  {
   "attachments": {},
   "cell_type": "markdown",
   "id": "c7642953",
   "metadata": {},
   "source": [
    "Специальный атрибут `weight` должен быть числовым, поскольку он используется\n",
    "алгоритмами, требующими взвешенных ребер.\n",
    "\n",
    "# 9. Направленные графы\n",
    "\n",
    "Класс `DiGraph` предоставляет дополнительные методы и свойства, специфичные\n",
    "для направленных ребер, например,\n",
    "`DiGraph.out_edges`, `DiGraph.in_degree`,\n",
    "`DiGraph.predecessors`, `DiGraph.successors` и т.д.\n",
    "Чтобы алгоритмы могли легко работать с обоими классами, направленные версии\n",
    "`соседей` эквивалентны\n",
    "`преемникам`, в то время как `степень` сообщает сумму\n",
    "`in_degree` и `out_degree`, хотя иногда это может показаться непоследовательным."
   ]
  },
  {
   "cell_type": "code",
   "execution_count": 25,
   "id": "994396d5",
   "metadata": {
    "execution": {
     "iopub.execute_input": "2023-04-04T20:09:19.852513Z",
     "iopub.status.busy": "2023-04-04T20:09:19.852004Z",
     "iopub.status.idle": "2023-04-04T20:09:19.857552Z",
     "shell.execute_reply": "2023-04-04T20:09:19.856897Z"
    }
   },
   "outputs": [
    {
     "name": "stdout",
     "output_type": "stream",
     "text": [
      "\n",
      " out_degree(2) - количество исходящих ребер вершины 2: 2 \n",
      " in_degree(2) - Входящие ребра вершины 2:  1 \n",
      " out_degree(2, weight='weight') - Выдал общий исходящий из вершины вес:  0.8 \n",
      " in_degree(2, weight='weight') - Входящий вес вершины 2:  0.5 \n",
      " out_degree(weight='weight') - Список кортежей состоящий из вершин и исходящих весов:  [(1, 0.5), (2, 0.8), (3, 0.75), (4, 0), (5, 0)] \n",
      " in_degree(weight='weight') - Список кортежей из вершин и входящих весов:  [(1, 0.75), (2, 0.5), (3, 0), (4, 0.45), (5, 0.35)] \n",
      " DG.degree(), -  Список всех соседств в графе:  [(1, 2), (2, 3), (3, 1), (4, 1), (5, 1)] \n",
      " DG.degree(2), - Число соседей вершины:  3 \n",
      " DG.degree(weight='weight') -  Cуммарный вход-й и исход-й вес для каждой вершины графа:  [(1, 1.25), (2, 1.3), (3, 0.75), (4, 0.45), (5, 0.35)] \n",
      " DG.degree(2,weight='weight') -  Сумарный вход-й и исход-й вес вершины 2:  1.3\n",
      "\n",
      " [4, 5] \n",
      " [4, 5]\n"
     ]
    },
    {
     "data": {
      "image/png": "[encoded data removed]",
      "text/plain": [
       "<Figure size 640x480 with 1 Axes>"
      ]
     },
     "metadata": {},
     "output_type": "display_data"
    }
   ],
   "source": [
    "import matplotlib.pyplot as plt\n",
    "\n",
    "DG = nx.DiGraph()\n",
    "DG.add_weighted_edges_from(\n",
    "    [(1, 2, 0.5), (3, 1, 0.75), (2, 4, 0.45), (2, 5, 0.35)])\n",
    "\n",
    "print(\n",
    "    '\\n', \"out_degree(2) - количество исходящих ребер вершины 2:\",\n",
    "    DG.out_degree(2),  \n",
    "    '\\n', \"in_degree(2) - Входящие ребра вершины 2: \",\n",
    "    DG.in_degree(2),  \n",
    "    '\\n', \"out_degree(2, weight='weight') - Выдал общий исходящий из вершины вес: \",\n",
    "    DG.out_degree(2, weight='weight'),  \n",
    "    '\\n', \"in_degree(2, weight='weight') - Входящий вес вершины 2: \",\n",
    "    DG.in_degree(2, weight='weight'),  \n",
    "    '\\n', \"out_degree(weight='weight') - Список кортежей состоящий из вершин и исходящих весов: \",\n",
    "    DG.out_degree(weight='weight'),  \n",
    "    '\\n',\"in_degree(weight='weight') - Список кортежей из вершин и входящих весов: \",\n",
    "    DG.in_degree(weight='weight'),  \n",
    "    '\\n',\n",
    "    'DG.degree(), -  Список всех соседств в графе: ',\n",
    "    DG.degree(), \n",
    "    '\\n',\n",
    "    'DG.degree(2), - Число соседей вершины: ',\n",
    "    DG.degree(2), \n",
    "    '\\n',\n",
    "    \"DG.degree(weight='weight') -  Cуммарный вход-й и исход-й вес для каждой вершины графа: \",\n",
    "    DG.degree(weight='weight'),\n",
    "    '\\n',\n",
    "    \"DG.degree(2,weight='weight') -  Сумарный вход-й и исход-й вес вершины 2: \",\n",
    "    DG.degree(2,weight='weight')\n",
    ")\n",
    "\n",
    "print(\n",
    "    '\\n',\n",
    "    list(DG.successors(2)), # Кто преемник вершины 2\n",
    "    '\\n',\n",
    "    list(DG.neighbors(2))) # Кто сосед вершины 2\n",
    "\n",
    "pos = nx.spring_layout(DG)\n",
    "nx.draw(DG, pos, with_labels=True, font_weight='bold')\n",
    "labels = nx.get_edge_attributes(DG,'weight')\n",
    "nx.draw_networkx_edge_labels(G, pos, edge_labels=labels)\n",
    "plt.show()\n"
   ]
  },
  {
   "cell_type": "markdown",
   "id": "f1a2295b",
   "metadata": {},
   "source": [
    "Some algorithms work only for directed graphs and others are not well\n",
    "defined for directed graphs.  Indeed the tendency to lump directed\n",
    "and undirected graphs together is dangerous.  If you want to treat\n",
    "a directed graph as undirected for some measurement you should probably\n",
    "convert it using `Graph.to_undirected()` or with"
   ]
  },
  {
   "attachments": {},
   "cell_type": "markdown",
   "id": "9de3bd64",
   "metadata": {},
   "source": [
    "Некоторые алгоритмы работают только для ориентированных графов, а другие недостаточно четко\n",
    "определены для ориентированных графов. Действительно, тенденция смешивать направленные\n",
    "и неориентированные графы вместе опасна. Если вы хотите рассматривать\n",
    "ориентированный граф как неориентированный для какого-либо измерения, вам, вероятно, следует\n",
    "преобразовать его с помощью `Graph.to_undirected()` или с помощью"
   ]
  },
  {
   "cell_type": "code",
   "execution_count": 26,
   "id": "62477030",
   "metadata": {
    "execution": {
     "iopub.execute_input": "2023-04-04T20:09:19.860224Z",
     "iopub.status.busy": "2023-04-04T20:09:19.859730Z",
     "iopub.status.idle": "2023-04-04T20:09:19.862875Z",
     "shell.execute_reply": "2023-04-04T20:09:19.862235Z"
    }
   },
   "outputs": [],
   "source": [
    "H = nx.Graph(G)  # создание неориентированного графа H из ориентированного графа G"
   ]
  },
  {
   "attachments": {},
   "cell_type": "markdown",
   "id": "161d904c",
   "metadata": {},
   "source": [
    "# Multigraphs\n",
    "\n",
    "NetworkX provides classes for graphs which allow multiple edges\n",
    "between any pair of nodes.  The `MultiGraph` and\n",
    "`MultiDiGraph`\n",
    "classes allow you to add the same edge twice, possibly with different\n",
    "edge data.  This can be powerful for some applications, but many\n",
    "algorithms are not well defined on such graphs.\n",
    "Where results are well defined,\n",
    "e.g., `MultiGraph.degree()` we provide the function.  Otherwise you\n",
    "should convert to a standard graph in a way that makes the measurement\n",
    "well defined."
   ]
  },
  {
   "attachments": {},
   "cell_type": "markdown",
   "id": "c03a34e6",
   "metadata": {},
   "source": [
    "# 10. Мультиграфы\n",
    "\n",
    "Мультиграф (англ. multigraph) - это математический термин, который описывает граф, в котором две вершины могут быть соединены несколькими ребрами (в отличие от обычного графа, где между вершинами может быть только одно ребро).\n",
    "\n",
    "NetworkX предоставляет классы для графиков, которые допускают множество ребер\n",
    "между любой парой узлов. `MultiGraph` и\n",
    "`MultiDiGraph`\n",
    "классы позволяют вам добавлять одно и то же ребро дважды, возможно, с разными\n",
    "данными ребра. Это может быть полезно для некоторых приложений, но многие\n",
    "алгоритмы недостаточно четко определены на таких графиках.\n",
    "Там, где результаты четко определены,\n",
    "например, `MultiGraph.degree()`, мы предоставляем функцию. В противном случае вам\n",
    "следует преобразовать в стандартный граф таким образом, чтобы измерение\n",
    "было четко определено.\n"
   ]
  },
  {
   "cell_type": "code",
   "execution_count": 27,
   "id": "2952952f",
   "metadata": {
    "execution": {
     "iopub.execute_input": "2023-04-04T20:09:19.865205Z",
     "iopub.status.busy": "2023-04-04T20:09:19.864872Z",
     "iopub.status.idle": "2023-04-04T20:09:19.871441Z",
     "shell.execute_reply": "2023-04-04T20:09:19.870782Z"
    }
   },
   "outputs": [
    {
     "name": "stdout",
     "output_type": "stream",
     "text": [
      "[(1, 1.25), (2, 1.75), (3, 0.5)] \n",
      " {1: 1.25, 2: 1.75, 3: 0.5}\n",
      "(GG.degree(weight='weight') -  [(1, 0.5), (2, 1.0), (3, 0.5)]\n"
     ]
    },
    {
     "data": {
      "text/plain": [
       "[1, 2, 3]"
      ]
     },
     "execution_count": 27,
     "metadata": {},
     "output_type": "execute_result"
    }
   ],
   "source": [
    "MG = nx.MultiGraph()\n",
    "# Добавление ребер с весом\n",
    "MG.add_weighted_edges_from([(1, 2, 0.5), (1, 2, 0.75), (2, 3, 0.5)])\n",
    "print(MG.degree(weight='weight'), '\\n', dict(MG.degree(weight='weight')))\n",
    "GG = nx.Graph()  # Создание графа\n",
    "for n, nbrs in MG.adjacency(): # цикл для 1й вершины\n",
    "# Выдаст словарь {1: {2: {0: {'weight': 0.5}, 1: {'weight': 0.75}}}} \n",
    "# тут путь, где 1 - исходная вершина. 2 - конечная вершина 0 - первый путь с весом 0.5, 1 - вторй путь с весом 0.75\n",
    "# n вершина, 1 к примеру, nrbs для вершины 1 - {2: {0: {'weight': 0.5}, 1: {'weight': 0.75}}}\n",
    "    for nbr, edict in nbrs.items(): # цикл для вершины-соседа, для вершины-1 сосед вершина-2\n",
    "    # edict - {0: {'weight': 0.5}, 1: {'weight': 0.75}}, nrb - вершина-сосед \n",
    "        minvalue = min([d['weight'] for d in edict.values()]) # возвращает минимиальный вес из весов двух путей\n",
    "        GG.add_edge(n, nbr, weight=minvalue) # Добаляет в GG путь от вершины n до вершины nrb с весом minvalue\n",
    "print(\"(GG.degree(weight='weight') - \", GG.degree(weight='weight'))\n",
    "nx.shortest_path(GG, 1, 3)\n"
   ]
  },
  {
   "cell_type": "markdown",
   "id": "75473c78",
   "metadata": {},
   "source": [
    "# Graph generators and graph operations\n",
    "\n",
    "In addition to constructing graphs node-by-node or edge-by-edge, they\n",
    "can also be generated by\n",
    "\n",
    "## 1. Applying classic graph operations, such as:\n",
    "\n",
    "## 2. Using a call to one of the classic small graphs, e.g.,\n",
    "\n",
    "## 3. Using a (constructive) generator for a classic graph, e.g.,\n",
    "\n",
    "like so:"
   ]
  },
  {
   "attachments": {},
   "cell_type": "markdown",
   "id": "8b02852b",
   "metadata": {},
   "source": [
    "# 11. Генераторы графов и операции над графами\n",
    "\n",
    "В дополнение к построению графов по узлам или по ребрам, они\n",
    "также могут быть сгенерированы\n",
    "\n",
    "## 11.1. Применяя классические операции над графами, такие как:\n",
    "`subgraph(G, nbunch)`                    Возвращает подграф, индуцированный на узлах в nbunch.\n",
    "       \n",
    "`union(G, H[, rename])`                  Объединить графы G и H.\n",
    "\n",
    "`disjoint_union(G, H)  `                 Объединить графы G и H.\n",
    "\n",
    "`cartesian_product(G, H)`                Возвращает декартово произведение графов G и H.\n",
    "\n",
    "`compose(G, H)           `               Составляет граф G и H, объединяя узлы и ребра в один граф.\n",
    "\n",
    "`complement(G)            `              Возвращает дополнение графа G.\n",
    "\n",
    "*Дополнение графа - это новый граф, который строится на основе исходного графа и содержит все вершины, которые были в исходном графе, но не содержит ребра, которые были в исходном графе.*\n",
    "\n",
    "*Формально, если дан неориентированный граф G с n вершинами и m ребрами, то дополнение графа G, обозначаемое как G', это граф с тем же набором вершин, что и в G, но без ребер, которые присутствуют в G. То есть, если (u, v) не является ребром в G, то (u, v) является ребром в G', и наоборот.*\n",
    "\n",
    "`create_empty_copy(G[, with_data]) `     Возвращает копию графа G со всеми удаленными ребрами.\n",
    "\n",
    "`to_undirected(graph)               `    Возвращает неориентированное представление графа .graph\n",
    "\n",
    "`to_directed(graph)                  `   Возвращает направленное представление графа .graph\n",
    "\n",
    "## 11.2. Используя обращение к одному из классических малых графов, например,\n",
    "\n",
    "`petersen_graph([create_using]) `           Возвращает график Петерсена.\n",
    "\n",
    "`tutte_graph([create_using]) `              Возвращает граф Тутте.\n",
    "\n",
    "`sedgewick_maze_graph([create_using]) `     Возвращает небольшой лабиринт с циклом.\n",
    "\n",
    "`tetrahedral_graph([create_using]) `        Возвращает 3-регулярный тетраэдрический граф Платона.\n",
    "\n",
    "## 11.3. Использование (конструктивного) генератора для классического графа, например,\n",
    "`complete_graph(n[, create_using]) `                    Возвращает полный граф с узлами.K_n\n",
    "\n",
    "`complete_bipartite_graph(n1, n2[, create_using]) `     Возвращает полный двудольный граф .K_{n_1,n_2}\n",
    "\n",
    "`barbell_graph(m1, m2[, create_using]) `                Возвращает двудольный граф: два полных графа co\n",
    "\n",
    "`lollipop_graph(m, n[, create_using]) `                 Возвращает леденцовый граф; соединен с .K_mP_n\n",
    "\n",
    "например:"
   ]
  },
  {
   "cell_type": "code",
   "execution_count": 28,
   "id": "70f75060",
   "metadata": {
    "execution": {
     "iopub.execute_input": "2023-04-04T20:09:19.874218Z",
     "iopub.status.busy": "2023-04-04T20:09:19.873887Z",
     "iopub.status.idle": "2023-04-04T20:09:19.878327Z",
     "shell.execute_reply": "2023-04-04T20:09:19.877694Z"
    }
   },
   "outputs": [],
   "source": [
    "K_5 = nx.complete_graph(5)\n",
    "K_3_5 = nx.complete_bipartite_graph(3, 5)\n",
    "barbell = nx.barbell_graph(10, 10)\n",
    "lollipop = nx.lollipop_graph(10, 20)"
   ]
  },
  {
   "attachments": {},
   "cell_type": "markdown",
   "id": "dc9d08fe",
   "metadata": {},
   "source": [
    "# 11.4. Using a stochastic graph generator, e.g,\n",
    "\n",
    "like so:"
   ]
  },
  {
   "attachments": {},
   "cell_type": "markdown",
   "id": "428d2683",
   "metadata": {},
   "source": [
    "# 11.4. Используя генератор стохастических графов, напр,\n",
    "\n",
    "например:"
   ]
  },
  {
   "cell_type": "code",
   "execution_count": 29,
   "id": "c9e719fd",
   "metadata": {
    "execution": {
     "iopub.execute_input": "2023-04-04T20:09:19.880805Z",
     "iopub.status.busy": "2023-04-04T20:09:19.880470Z",
     "iopub.status.idle": "2023-04-04T20:09:19.959674Z",
     "shell.execute_reply": "2023-04-04T20:09:19.958949Z"
    }
   },
   "outputs": [],
   "source": [
    "er = nx.erdos_renyi_graph(100, 0.15)\n",
    "ws = nx.watts_strogatz_graph(30, 3, 0.1)\n",
    "ba = nx.barabasi_albert_graph(100, 5)\n",
    "red = nx.random_lobster(100, 0.9, 0.9)"
   ]
  },
  {
   "attachments": {},
   "cell_type": "markdown",
   "id": "ab682ae0",
   "metadata": {},
   "source": [
    "# 12. Reading a graph stored in a file using common graph formats\n",
    "\n",
    "NetworkX supports many popular formats, such as edge lists, adjacency lists,\n",
    "GML, GraphML, LEDA and others."
   ]
  },
  {
   "attachments": {},
   "cell_type": "markdown",
   "id": "73ab239c",
   "metadata": {},
   "source": [
    "# 12. Чтение графа, хранящегося в файле, с использованием распространенных форматов графов\n",
    "\n",
    "NetworkX поддерживает множество популярных форматов, таких как списки ребер, списки смежности,\n",
    "GML, GraphML, LEDA и другие."
   ]
  },
  {
   "cell_type": "code",
   "execution_count": 30,
   "id": "d020ea7d",
   "metadata": {
    "execution": {
     "iopub.execute_input": "2023-04-04T20:09:19.962871Z",
     "iopub.status.busy": "2023-04-04T20:09:19.962402Z",
     "iopub.status.idle": "2023-04-04T20:09:21.534242Z",
     "shell.execute_reply": "2023-04-04T20:09:21.533521Z"
    }
   },
   "outputs": [],
   "source": [
    "nx.write_gml(red, \"path.to.file\")\n",
    "mygraph = nx.read_gml(\"path.to.file\")"
   ]
  },
  {
   "cell_type": "markdown",
   "id": "b79d9eba",
   "metadata": {},
   "source": [
    "For details on graph formats see Reading and writing graphs\n",
    "and for graph generator functions see Graph generators\n",
    "\n",
    " Analyzing graphs\n",
    "\n",
    "The structure of `G` can be analyzed using various graph-theoretic\n",
    "functions such as:"
   ]
  },
  {
   "attachments": {},
   "cell_type": "markdown",
   "id": "348d1193",
   "metadata": {},
   "source": [
    "Подробнее о форматах графов см. в разделе Чтение и запись графиков\n",
    "и о функциях генераторов графиков см. раздел Генераторы графов\n",
    "\n",
    " Анализ графов\n",
    "\n",
    "Структура `G` может быть проанализирована с помощью различных графо-теоретических функций, такие как:"
   ]
  },
  {
   "cell_type": "code",
   "execution_count": 31,
   "id": "0c40fb57",
   "metadata": {
    "execution": {
     "iopub.execute_input": "2023-04-04T20:09:21.537836Z",
     "iopub.status.busy": "2023-04-04T20:09:21.537338Z",
     "iopub.status.idle": "2023-04-04T20:09:21.545256Z",
     "shell.execute_reply": "2023-04-04T20:09:21.544675Z"
    }
   },
   "outputs": [
    {
     "name": "stdout",
     "output_type": "stream",
     "text": [
      "[{1, 2, 3}, {'spam'}]\n"
     ]
    },
    {
     "data": {
      "text/plain": [
       "{1: 0, 2: 0, 3: 0, 'spam': 0}"
      ]
     },
     "execution_count": 31,
     "metadata": {},
     "output_type": "execute_result"
    }
   ],
   "source": [
    "G = nx.Graph()\n",
    "G.add_edges_from([(1, 2), (1, 3)])\n",
    "G.add_node(\"spam\")       # adds node \"spam\"\n",
    "print(list(nx.connected_components(G))) # Компонент ысвязности\n",
    "sorted(d for n, d in G.degree())\n",
    "nx.clustering(G) # используется для вычисления коэффициентов кластеризации для каждой вершины в графе `G`."
   ]
  },
  {
   "attachments": {},
   "cell_type": "markdown",
   "id": "2df7f3d7",
   "metadata": {},
   "source": [
    "Функция `nx.clustering(G)` из библиотеки NetworkX используется для вычисления коэффициентов кластеризации для каждой вершины в графе `G`.\n",
    "\n",
    "Коэффициент кластеризации для вершины - это мера того, насколько близки ее соседи друг к другу. Он вычисляется как отношение количества ребер, которые существуют между соседями данной вершины, к максимальному количеству ребер, которые могут существовать между ними. Этот коэффициент может быть использован для изучения локальной структуры графа и может помочь выявить характерные особенности, такие как кластеризация, ассортативность, центральность и т.д."
   ]
  },
  {
   "attachments": {},
   "cell_type": "markdown",
   "id": "b45c5bd1",
   "metadata": {},
   "source": [
    "Some functions with large output iterate over (node, value) 2-tuples.\n",
    "These are easily stored in a [dict](https://docs.python.org/3/library/stdtypes.html#dict) structure if you desire."
   ]
  },
  {
   "attachments": {},
   "cell_type": "markdown",
   "id": "55bce069",
   "metadata": {},
   "source": [
    "Некоторые функции с большим выводом выполняют итерации над 2-кортежами (узел, значение).\n",
    "При желании их легко хранить в структуре [dict](https://docs.python.org/3/library/stdtypes.html#dict)."
   ]
  },
  {
   "cell_type": "code",
   "execution_count": 32,
   "id": "2a641901",
   "metadata": {
    "execution": {
     "iopub.execute_input": "2023-04-04T20:09:21.548215Z",
     "iopub.status.busy": "2023-04-04T20:09:21.547875Z",
     "iopub.status.idle": "2023-04-04T20:09:21.553890Z",
     "shell.execute_reply": "2023-04-04T20:09:21.553322Z"
    }
   },
   "outputs": [
    {
     "data": {
      "text/plain": [
       "{3: [3], 1: [3, 1], 2: [3, 1, 2]}"
      ]
     },
     "execution_count": 32,
     "metadata": {},
     "output_type": "execute_result"
    }
   ],
   "source": [
    "sp = dict(nx.all_pairs_shortest_path(G))\n",
    "sp[3] "
   ]
  },
  {
   "attachments": {},
   "cell_type": "markdown",
   "id": "30e48000",
   "metadata": {},
   "source": [
    "Подробную информацию о поддерживаемых алгоритмах графов см. в разделе Алгоритмы\n",
    "поддерживается.\n",
    "\n",
    "# 13. Рисование графов\n",
    "\n",
    "NetworkX не является в первую очередь пакетом для рисования графов, но базовое рисование с помощью\n",
    "Matplotlib, а также интерфейс для использования программного пакета Graphviz с открытым исходным кодом.\n",
    "включены в пакет.  Они являются частью модуля networkx.drawing\n",
    "и будут импортированы, если это возможно.\n",
    "\n",
    "Сначала импортируйте интерфейс построения графиков Matplotlib (pylab тоже работает)\n",
    "\n",
    "Переведено с помощью www.DeepL.com/Translator (бесплатная версия)"
   ]
  },
  {
   "cell_type": "markdown",
   "id": "1040d843",
   "metadata": {},
   "source": [
    "See Algorithms for details on graph algorithms\n",
    "supported.\n",
    "\n",
    "# Drawing graphs\n",
    "\n",
    "NetworkX is not primarily a graph drawing package but basic drawing with\n",
    "Matplotlib as well as an interface to use the open source Graphviz software\n",
    "package are included.  These are part of the networkx.drawing\n",
    "module and will be imported if possible.\n",
    "\n",
    "First import Matplotlib’s plot interface (pylab works too)"
   ]
  },
  {
   "cell_type": "code",
   "execution_count": 33,
   "id": "55c5a07e",
   "metadata": {
    "execution": {
     "iopub.execute_input": "2023-04-04T20:09:21.556922Z",
     "iopub.status.busy": "2023-04-04T20:09:21.556393Z",
     "iopub.status.idle": "2023-04-04T20:09:21.871351Z",
     "shell.execute_reply": "2023-04-04T20:09:21.870613Z"
    }
   },
   "outputs": [],
   "source": [
    "import matplotlib.pyplot as plt"
   ]
  },
  {
   "attachments": {},
   "cell_type": "markdown",
   "id": "18211e5d",
   "metadata": {},
   "source": [
    "To test if the import of `nx_pylab` was successful draw `G`\n",
    "using one of"
   ]
  },
  {
   "attachments": {},
   "cell_type": "markdown",
   "id": "fd2a7b5a",
   "metadata": {},
   "source": [
    "Чтобы проверить, был ли импорт `nx_pylab` успешным, нарисуйте `G`\n",
    "используя один из"
   ]
  },
  {
   "cell_type": "code",
   "execution_count": 34,
   "id": "adc5b19d",
   "metadata": {
    "execution": {
     "iopub.execute_input": "2023-04-04T20:09:21.874690Z",
     "iopub.status.busy": "2023-04-04T20:09:21.874153Z",
     "iopub.status.idle": "2023-04-04T20:09:22.109461Z",
     "shell.execute_reply": "2023-04-04T20:09:22.108894Z"
    }
   },
   "outputs": [
    {
     "data": {
      "image/png": "[encoded data removed]",
      "text/plain": [
       "<Figure size 640x480 with 2 Axes>"
      ]
     },
     "metadata": {},
     "output_type": "display_data"
    }
   ],
   "source": [
    "G = nx.petersen_graph() # создается граф Петерсена с помощью функции \n",
    "subax1 = plt.subplot(2,2,1) # создаются две субграфики (subplot) в одной строке\n",
    "nx.draw(G, with_labels=True, font_weight='bold') # with_labels=True говорит библиотеке отображать номера узлов на графе. font_weight='bold' используется для увеличения жирности шрифта номеров узлов.\n",
    "subax2 = plt.subplot(222)\n",
    "nx.draw_shell(G, nlist=[range(5, 10), range(5)], with_labels=True, font_weight='bold') \n",
    "# Аргумент nlist в nx.draw_shell() задает порядок слоев узлов графа. \n",
    "# В этом конкретном примере, nlist установлен так, чтобы первый слой состоял из узлов 5-9, а второй слой состоял из узлов 0-4. \n",
    "# Этот порядок узлов отображается на графике, где узлы находятся в двух кругах с центром в середине."
   ]
  },
  {
   "cell_type": "markdown",
   "id": "34185209",
   "metadata": {},
   "source": [
    "when drawing to an interactive display.  Note that you may need to issue a\n",
    "Matplotlib"
   ]
  },
  {
   "attachments": {},
   "cell_type": "markdown",
   "id": "bd4852a8",
   "metadata": {},
   "source": [
    "при рисовании на интерактивном дисплее.  Обратите внимание, что вам может потребоваться выдать команду\n",
    "Matplotlib"
   ]
  },
  {
   "cell_type": "code",
   "execution_count": 35,
   "id": "463bbac2",
   "metadata": {
    "execution": {
     "iopub.execute_input": "2023-04-04T20:09:22.112550Z",
     "iopub.status.busy": "2023-04-04T20:09:22.112121Z",
     "iopub.status.idle": "2023-04-04T20:09:22.115220Z",
     "shell.execute_reply": "2023-04-04T20:09:22.114654Z"
    }
   },
   "outputs": [],
   "source": [
    "plt.show()"
   ]
  },
  {
   "cell_type": "markdown",
   "id": "4665c907",
   "metadata": {},
   "source": [
    "command if you are not using matplotlib in interactive mode."
   ]
  },
  {
   "attachments": {},
   "cell_type": "markdown",
   "id": "c442c28a",
   "metadata": {},
   "source": [
    "если вы не используете matplotlib в интерактивном режиме."
   ]
  },
  {
   "cell_type": "code",
   "execution_count": 36,
   "id": "c77d0524",
   "metadata": {
    "execution": {
     "iopub.execute_input": "2023-04-04T20:09:22.117792Z",
     "iopub.status.busy": "2023-04-04T20:09:22.117386Z",
     "iopub.status.idle": "2023-04-04T20:09:22.467894Z",
     "shell.execute_reply": "2023-04-04T20:09:22.467117Z"
    }
   },
   "outputs": [
    {
     "data": {
      "image/png": "[encoded data removed]",
      "text/plain": [
       "<Figure size 640x480 with 4 Axes>"
      ]
     },
     "metadata": {},
     "output_type": "display_data"
    }
   ],
   "source": [
    "options = {\n",
    "    'node_color': 'blue',\n",
    "    'node_size': 100,\n",
    "    'width': 3,\n",
    "}\n",
    "subax1 = plt.subplot(221)\n",
    "nx.draw_random(G, **options)\n",
    "subax2 = plt.subplot(222)\n",
    "nx.draw_circular(G, **options)\n",
    "subax3 = plt.subplot(223)\n",
    "nx.draw_spectral(G, **options)\n",
    "subax4 = plt.subplot(224)\n",
    "nx.draw_shell(G, nlist=[range(5,10), range(5)], **options)"
   ]
  },
  {
   "cell_type": "markdown",
   "id": "e9074ec3",
   "metadata": {},
   "source": [
    "You can find additional options via `draw_networkx()` and\n",
    "layouts via the `layout module`.\n",
    "You can use multiple shells with `draw_shell()`."
   ]
  },
  {
   "attachments": {},
   "cell_type": "markdown",
   "id": "9535994a",
   "metadata": {},
   "source": [
    "Вы можете найти дополнительные опции через `draw_networkx()` и\n",
    "макеты через модуль `layout`.\n",
    "Вы можете использовать несколько оболочек с помощью `draw_shell()`."
   ]
  },
  {
   "cell_type": "code",
   "execution_count": 37,
   "id": "d6acee87",
   "metadata": {
    "execution": {
     "iopub.execute_input": "2023-04-04T20:09:22.471259Z",
     "iopub.status.busy": "2023-04-04T20:09:22.470684Z",
     "iopub.status.idle": "2023-04-04T20:09:22.593904Z",
     "shell.execute_reply": "2023-04-04T20:09:22.593299Z"
    }
   },
   "outputs": [
    {
     "data": {
      "image/png": "[encoded data removed]",
      "text/plain": [
       "<Figure size 640x480 with 1 Axes>"
      ]
     },
     "metadata": {},
     "output_type": "display_data"
    }
   ],
   "source": [
    "G = nx.dodecahedral_graph()\n",
    "shells = [[2, 3, 4, 5, 6], [8, 1, 0, 19, 18, 17, 16, 15, 14, 7], [9, 10, 11, 12, 13]]\n",
    "nx.draw_shell(G, nlist=shells, with_labels=True, **options)"
   ]
  },
  {
   "cell_type": "markdown",
   "id": "18276bc4",
   "metadata": {},
   "source": [
    "To save drawings to a file, use, for example"
   ]
  },
  {
   "attachments": {},
   "cell_type": "markdown",
   "id": "4e1b9d2d",
   "metadata": {},
   "source": [
    "Чтобы сохранить чертежи в файл, используйте, например, следующие слова"
   ]
  },
  {
   "cell_type": "code",
   "execution_count": 38,
   "id": "065e299c",
   "metadata": {
    "execution": {
     "iopub.execute_input": "2023-04-04T20:09:22.596868Z",
     "iopub.status.busy": "2023-04-04T20:09:22.596489Z",
     "iopub.status.idle": "2023-04-04T20:09:22.830901Z",
     "shell.execute_reply": "2023-04-04T20:09:22.830312Z"
    }
   },
   "outputs": [
    {
     "data": {
      "image/png": "[encoded data removed]",
      "text/plain": [
       "<Figure size 640x480 with 1 Axes>"
      ]
     },
     "metadata": {},
     "output_type": "display_data"
    }
   ],
   "source": [
    "nx.draw(G)\n",
    "plt.savefig(\"path.png\")"
   ]
  },
  {
   "cell_type": "markdown",
   "id": "857a0730",
   "metadata": {},
   "source": [
    "This function writes to the file `path.png` in the local directory. If Graphviz and\n",
    "PyGraphviz or pydot, are available on your system, you can also use\n",
    "`networkx.drawing.nx_agraph.graphviz_layout` or\n",
    "`networkx.drawing.nx_pydot.graphviz_layout` to get the node positions, or write\n",
    "the graph in dot format for further processing."
   ]
  },
  {
   "attachments": {},
   "cell_type": "markdown",
   "id": "ba298d5f",
   "metadata": {},
   "source": [
    "Эта функция записывает в файл `path.png` в локальном каталоге. Если Graphviz и\n",
    "PyGraphviz или pydot, доступны в вашей системе, вы также можете использовать\n",
    "`networkx.drawing.nx_agraph.graphviz_layout` или\n",
    "`networkx.drawing.nx_pydot.graphviz_layout` для получения положения узлов, или записать график в точечном формате.\n",
    "график в точечном формате для дальнейшей обработки."
   ]
  },
  {
   "cell_type": "code",
   "execution_count": 39,
   "id": "9f46b847",
   "metadata": {
    "execution": {
     "iopub.execute_input": "2023-04-04T20:09:22.833896Z",
     "iopub.status.busy": "2023-04-04T20:09:22.833414Z",
     "iopub.status.idle": "2023-04-04T20:09:22.982675Z",
     "shell.execute_reply": "2023-04-04T20:09:22.981998Z"
    }
   },
   "outputs": [
    {
     "ename": "ImportError",
     "evalue": "requires pygraphviz http://pygraphviz.github.io/",
     "output_type": "error",
     "traceback": [
      "\u001b[1;31m---------------------------------------------------------------------------\u001b[0m",
      "\u001b[1;31mModuleNotFoundError\u001b[0m                       Traceback (most recent call last)",
      "File \u001b[1;32mc:\\python\\Lib\\site-packages\\networkx\\drawing\\nx_agraph.py:295\u001b[0m, in \u001b[0;36mpygraphviz_layout\u001b[1;34m(G, prog, root, args)\u001b[0m\n\u001b[0;32m    294\u001b[0m \u001b[39mtry\u001b[39;00m:\n\u001b[1;32m--> 295\u001b[0m     \u001b[39mimport\u001b[39;00m \u001b[39mpygraphviz\u001b[39;00m\n\u001b[0;32m    296\u001b[0m \u001b[39mexcept\u001b[39;00m \u001b[39mImportError\u001b[39;00m \u001b[39mas\u001b[39;00m err:\n",
      "\u001b[1;31mModuleNotFoundError\u001b[0m: No module named 'pygraphviz'",
      "\nThe above exception was the direct cause of the following exception:\n",
      "\u001b[1;31mImportError\u001b[0m                               Traceback (most recent call last)",
      "Cell \u001b[1;32mIn[39], line 2\u001b[0m\n\u001b[0;32m      1\u001b[0m \u001b[39mfrom\u001b[39;00m \u001b[39mnetworkx\u001b[39;00m\u001b[39m.\u001b[39;00m\u001b[39mdrawing\u001b[39;00m\u001b[39m.\u001b[39;00m\u001b[39mnx_pydot\u001b[39;00m \u001b[39mimport\u001b[39;00m write_dot\n\u001b[1;32m----> 2\u001b[0m pos \u001b[39m=\u001b[39m nx\u001b[39m.\u001b[39;49mnx_agraph\u001b[39m.\u001b[39;49mgraphviz_layout(G)\n\u001b[0;32m      3\u001b[0m nx\u001b[39m.\u001b[39mdraw(G, pos\u001b[39m=\u001b[39mpos)\n\u001b[0;32m      4\u001b[0m write_dot(G, \u001b[39m'\u001b[39m\u001b[39mfile.dot\u001b[39m\u001b[39m'\u001b[39m)\n",
      "File \u001b[1;32mc:\\python\\Lib\\site-packages\\networkx\\drawing\\nx_agraph.py:251\u001b[0m, in \u001b[0;36mgraphviz_layout\u001b[1;34m(G, prog, root, args)\u001b[0m\n\u001b[0;32m    220\u001b[0m \u001b[39mdef\u001b[39;00m \u001b[39mgraphviz_layout\u001b[39m(G, prog\u001b[39m=\u001b[39m\u001b[39m\"\u001b[39m\u001b[39mneato\u001b[39m\u001b[39m\"\u001b[39m, root\u001b[39m=\u001b[39m\u001b[39mNone\u001b[39;00m, args\u001b[39m=\u001b[39m\u001b[39m\"\u001b[39m\u001b[39m\"\u001b[39m):\n\u001b[0;32m    221\u001b[0m \u001b[39m    \u001b[39m\u001b[39m\"\"\"Create node positions for G using Graphviz.\u001b[39;00m\n\u001b[0;32m    222\u001b[0m \n\u001b[0;32m    223\u001b[0m \u001b[39m    Parameters\u001b[39;00m\n\u001b[1;32m   (...)\u001b[0m\n\u001b[0;32m    249\u001b[0m \u001b[39m    see https://gitlab.com/graphviz/graphviz/-/issues/1767 for more info.\u001b[39;00m\n\u001b[0;32m    250\u001b[0m \u001b[39m    \"\"\"\u001b[39;00m\n\u001b[1;32m--> 251\u001b[0m     \u001b[39mreturn\u001b[39;00m pygraphviz_layout(G, prog\u001b[39m=\u001b[39;49mprog, root\u001b[39m=\u001b[39;49mroot, args\u001b[39m=\u001b[39;49margs)\n",
      "File \u001b[1;32mc:\\python\\Lib\\site-packages\\networkx\\drawing\\nx_agraph.py:297\u001b[0m, in \u001b[0;36mpygraphviz_layout\u001b[1;34m(G, prog, root, args)\u001b[0m\n\u001b[0;32m    295\u001b[0m     \u001b[39mimport\u001b[39;00m \u001b[39mpygraphviz\u001b[39;00m\n\u001b[0;32m    296\u001b[0m \u001b[39mexcept\u001b[39;00m \u001b[39mImportError\u001b[39;00m \u001b[39mas\u001b[39;00m err:\n\u001b[1;32m--> 297\u001b[0m     \u001b[39mraise\u001b[39;00m \u001b[39mImportError\u001b[39;00m(\n\u001b[0;32m    298\u001b[0m         \u001b[39m\"\u001b[39m\u001b[39mrequires pygraphviz \u001b[39m\u001b[39m\"\u001b[39m \u001b[39m\"\u001b[39m\u001b[39mhttp://pygraphviz.github.io/\u001b[39m\u001b[39m\"\u001b[39m\n\u001b[0;32m    299\u001b[0m     ) \u001b[39mfrom\u001b[39;00m \u001b[39merr\u001b[39;00m\n\u001b[0;32m    300\u001b[0m \u001b[39mif\u001b[39;00m root \u001b[39mis\u001b[39;00m \u001b[39mnot\u001b[39;00m \u001b[39mNone\u001b[39;00m:\n\u001b[0;32m    301\u001b[0m     args \u001b[39m+\u001b[39m\u001b[39m=\u001b[39m \u001b[39mf\u001b[39m\u001b[39m\"\u001b[39m\u001b[39m-Groot=\u001b[39m\u001b[39m{\u001b[39;00mroot\u001b[39m}\u001b[39;00m\u001b[39m\"\u001b[39m\n",
      "\u001b[1;31mImportError\u001b[0m: requires pygraphviz http://pygraphviz.github.io/"
     ]
    }
   ],
   "source": [
    "from networkx.drawing.nx_pydot import write_dot\n",
    "pos = nx.nx_agraph.graphviz_layout(G)\n",
    "nx.draw(G, pos=pos)\n",
    "write_dot(G, 'file.dot')"
   ]
  },
  {
   "cell_type": "markdown",
   "id": "94236c6e",
   "metadata": {},
   "source": [
    "See Drawing for additional details.\n",
    "\n",
    "# NX-Guides\n",
    "\n",
    "If you are interested in learning more about NetworkX, graph theory and network analysis\n",
    "then you should check out [nx-guides](https://networkx.org/nx-guides/index.html). There you can find tutorials,\n",
    "real-world applications and in-depth examinations of graphs and network algorithms.\n",
    "All the material is official and was developed and curated by the NetworkX community."
   ]
  },
  {
   "attachments": {},
   "cell_type": "markdown",
   "id": "639f2ec4",
   "metadata": {},
   "source": [
    "Дополнительные сведения см. на чертеже.\n",
    "\n",
    "# 14. X-Guides\n",
    "\n",
    "Если вы хотите узнать больше о NetworkX, теории графов и сетевом анализе\n",
    "то вам стоит заглянуть на [nx-guides](https://networkx.org/nx-guides/index.html). Там вы найдете учебные пособия,\n",
    "реальные приложения и углубленное изучение графов и сетевых алгоритмов.\n",
    "Все материалы являются официальными и были разработаны и курированы сообществом NetworkX."
   ]
  },
  {
   "attachments": {},
   "cell_type": "markdown",
   "id": "e407140b",
   "metadata": {},
   "source": [
    "# adjacency - смежность"
   ]
  },
  {
   "cell_type": "markdown",
   "id": "dd098a19",
   "metadata": {},
   "source": []
  }
 ],
 "metadata": {
  "kernelspec": {
   "display_name": "Python 3",
   "language": "python",
   "name": "python3"
  },
  "language_info": {
   "codemirror_mode": {
    "name": "ipython",
    "version": 3
   },
   "file_extension": ".py",
   "mimetype": "text/x-python",
   "name": "python",
   "nbconvert_exporter": "python",
   "pygments_lexer": "ipython3",
   "version": "3.11.1"
  }
 },
 "nbformat": 4,
 "nbformat_minor": 5
}
